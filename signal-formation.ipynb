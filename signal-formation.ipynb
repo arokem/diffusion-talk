{
 "metadata": {
  "name": "",
  "signature": "sha256:b4c2f3cf78664db9fae7eefa3e9b21071085a039ffceebe8ab4c4ffcd5203126"
 },
 "nbformat": 3,
 "nbformat_minor": 0,
 "worksheets": [
  {
   "cells": [
    {
     "cell_type": "code",
     "collapsed": false,
     "input": [
      "%pylab inline\n",
      "import IPython.html.widgets as wdg\n",
      "import IPython.display as display"
     ],
     "language": "python",
     "metadata": {},
     "outputs": [
      {
       "output_type": "stream",
       "stream": "stdout",
       "text": [
        "Populating the interactive namespace from numpy and matplotlib\n"
       ]
      }
     ],
     "prompt_number": 53
    },
    {
     "cell_type": "markdown",
     "metadata": {},
     "source": [
      "## The pulsed-gradient experiment: principles of dMRI signal formation\n",
      "\n",
      "Diffusion MRI is a non-invasive method to measure the location- and direction-specific diffusion of water in the human brain *in vivo*. The measurement is rendered sensitive to diffusion through an application of a pulsed gradient. Between the two gradients, a diffusion time is set, allowing water molecules to diffuse. The loss of signal can be described through the Stejskal Tanner equation: \n",
      "\n",
      "$S(b, D) = S_0 e ^{-bD}$ \n",
      "\n",
      "Where: \n",
      "\n",
      "$b = \\gamma^2 g^2 \\delta ^2 (\\Delta - \\frac{\\delta}{3})$ \n"
     ]
    },
    {
     "cell_type": "code",
     "collapsed": false,
     "input": [],
     "language": "python",
     "metadata": {},
     "outputs": [],
     "prompt_number": 53
    },
    {
     "cell_type": "code",
     "collapsed": false,
     "input": [
      "def b_value(g, delta, Delta, gamma=42.576):\n",
      "    \"\"\" \n",
      "    Calculate the b value\n",
      "    \n",
      "    Parameters\n",
      "    ----------\n",
      "    g : gradient strength (mT/m, typically around 40)\n",
      "    delta : gradient duration\n",
      "    Delta : diffusion duration\n",
      "    gamma : the gyromagnetic ration (42.576 MHz/T for Hydrogen)\n",
      "    \n",
      "    \"\"\"\n",
      "    G = g*1e-3*1e-6 #convert to T/um\n",
      "    gamma = 2*np.pi*gamma*1e6*1e-3 # convert to 1/ms/T (Hz = cycles/sec, 1 cycle = 2pi = 2pi/sec)\n",
      "    \n",
      "    return 1000 * (gamma ** 2 * G ** 2 * delta ** 2 * (Delta-delta/3)) # millisecons/micrometer^2"
     ],
     "language": "python",
     "metadata": {},
     "outputs": [],
     "prompt_number": 54
    },
    {
     "cell_type": "code",
     "collapsed": false,
     "input": [],
     "language": "python",
     "metadata": {},
     "outputs": [],
     "prompt_number": 54
    },
    {
     "cell_type": "code",
     "collapsed": false,
     "input": [],
     "language": "python",
     "metadata": {},
     "outputs": [],
     "prompt_number": 54
    },
    {
     "cell_type": "code",
     "collapsed": false,
     "input": [
      "b_value(g, delta, Delta)"
     ],
     "language": "python",
     "metadata": {},
     "outputs": [
      {
       "metadata": {},
       "output_type": "pyout",
       "prompt_number": 55,
       "text": [
        "1075.8517778975615"
       ]
      }
     ],
     "prompt_number": 55
    },
    {
     "cell_type": "code",
     "collapsed": false,
     "input": [
      "def ST_equation(b, D, S0=1):\n",
      "    \"\"\" \n",
      "    The Stejskal Tanner equation\n",
      "    \"\"\"\n",
      "    return S0 * np.exp(-b * D)"
     ],
     "language": "python",
     "metadata": {},
     "outputs": [],
     "prompt_number": 56
    },
    {
     "cell_type": "code",
     "collapsed": false,
     "input": [],
     "language": "python",
     "metadata": {},
     "outputs": [
      {
       "ename": "NameError",
       "evalue": "name 'ax' is not defined",
       "output_type": "pyerr",
       "traceback": [
        "\u001b[0;31m---------------------------------------------------------------------------\u001b[0m\n\u001b[0;31mNameError\u001b[0m                                 Traceback (most recent call last)",
        "\u001b[0;32m<ipython-input-135-ae90db26aac2>\u001b[0m in \u001b[0;36m<module>\u001b[0;34m()\u001b[0m\n\u001b[0;32m----> 1\u001b[0;31m \u001b[0max\u001b[0m\u001b[0;34m[\u001b[0m\u001b[0;36m0\u001b[0m\u001b[0;34m]\u001b[0m\u001b[0;34m\u001b[0m\u001b[0m\n\u001b[0m",
        "\u001b[0;31mNameError\u001b[0m: name 'ax' is not defined"
       ]
      }
     ],
     "prompt_number": 135
    },
    {
     "cell_type": "code",
     "collapsed": false,
     "input": [
      "def viz_gradients(g = 40, delta = 17, Delta = 100, S0=1):\n",
      "    t = np.arange(0, 10 + delta + Delta + 10, 1) # In msec\n",
      "    grad = np.zeros(t.shape)\n",
      "    grad[np.where(np.logical_and(t>10, t<10 + delta))] = g\n",
      "    grad[np.where(np.logical_and((t>10 + Delta), t <(10+Delta + delta)))] = g\n",
      "    b = b_value(g, delta, Delta)\n",
      "    fig, ax = plt.subplots(1, 2)\n",
      "    ax[0].plot(t, grad)\n",
      "    ax[0].plot([10, 10+delta], [g+10, g+10],'k-')\n",
      "    ax[0].plot([10], [g+10],'k<')\n",
      "    ax[0].plot([10+delta], [g+10],'k>')\n",
      "    ax[0].text(10+delta/2., g+20, '$\\delta$')\n",
      "    ax[0].plot([10, 10+Delta], [g+40, g+40],'k-')\n",
      "    ax[0].plot([10], [g+40],'k<')\n",
      "    ax[0].plot([10+Delta], [g+40],'k>')\n",
      "    ax[0].text(10+Delta/2., g+60, '$\\Delta$')\n",
      "    \n",
      "    ax[0].plot([10+Delta+delta+5, 10+Delta+delta+5], [10, g],'k-')\n",
      "    ax[0].plot([10+Delta+delta+5], [10],'kv')\n",
      "    ax[0].plot([10+Delta+delta+5], [g],'k^')\n",
      "    ax[0].text(10+Delta/2., g+60, 'g')\n",
      "    \n",
      "    ax[0].set_xlim([-10, max(t) + 10])\n",
      "    ax[0].set_ylim([-10, 375])\n",
      "    D = np.arange(0, 4, 0.01)\n",
      "    ax[1].plot(D, ST_equation(b/1000., D, S0=S0))\n",
      "    ax[1].plot([3.0, 3.0], [0, S0], '--k')"
     ],
     "language": "python",
     "metadata": {},
     "outputs": [],
     "prompt_number": 160
    },
    {
     "cell_type": "code",
     "collapsed": false,
     "input": [
      "vg_widget = wdg.interactive(viz_gradients, \n",
      "                            g=wdg.FloatSliderWidget(min=10, max=300, step=10.0, value=40),\n",
      "                            delta=wdg.FloatSliderWidget(min=10, max=40, step=1.0, value=17),\n",
      "                            Delta=wdg.FloatSliderWidget(min=10, max=300, step=10.0, value=100)\n",
      "                            )\n",
      "display.display(vg_widget)"
     ],
     "language": "python",
     "metadata": {},
     "outputs": [
      {
       "metadata": {},
       "output_type": "display_data",
       "png": "[encoded data removed]",
       "text": [
        "<matplotlib.figure.Figure at 0x10c4b7c50>"
       ]
      }
     ],
     "prompt_number": 161
    },
    {
     "cell_type": "code",
     "collapsed": false,
     "input": [],
     "language": "python",
     "metadata": {},
     "outputs": [],
     "prompt_number": 70
    },
    {
     "cell_type": "code",
     "collapsed": false,
     "input": [],
     "language": "python",
     "metadata": {},
     "outputs": []
    }
   ],
   "metadata": {}
  }
 ]
}