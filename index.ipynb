{
 "metadata": {
  "name": "",
  "signature": "sha256:97e6bec2c0890bbe909dd5166c6ddb832f1a60f8d4e6b0a89602493fbf6e00e5"
 },
 "nbformat": 3,
 "nbformat_minor": 0,
 "worksheets": [
  {
   "cells": [
    {
     "cell_type": "markdown",
     "metadata": {},
     "source": [
      "# Introduction to diffusion MRI\n",
      "\n",
      "This series of notebooks introduces the principles of the measurement and analysis of diffusion MRI (dMRI, or DWI) data. \n",
      "\n"
     ]
    },
    {
     "cell_type": "markdown",
     "metadata": {},
     "source": [
      "1. [Principles of signal formation](signal-formation.ipynb): How is the signal generated?\n",
      "1. [dMRI signals](dMRI-signals.ipynb): The measurement in different directions\n",
      "1. [b-values](b-values.ipynb): Diffusion sensitization and the Stejskal-Tanner Equation"
     ]
    },
    {
     "cell_type": "code",
     "collapsed": false,
     "input": [],
     "language": "python",
     "metadata": {},
     "outputs": []
    }
   ],
   "metadata": {}
  }
 ]
}