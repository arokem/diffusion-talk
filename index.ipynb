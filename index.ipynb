{
 "metadata": {
  "name": "",
  "signature": "sha256:f5eab8017ae97a50e19bb75454abffc80bc97c192cf4a7e4d0b52d8c9b25aacf"
 },
 "nbformat": 3,
 "nbformat_minor": 0,
 "worksheets": [
  {
   "cells": [
    {
     "cell_type": "markdown",
     "metadata": {},
     "source": [
      "# Introduction to diffusion MRI\n",
      "\n",
      "This series of notebooks introduces the principles of the measurement and analysis of diffusion MRI (dMRI, or DWI) data. \n",
      "\n"
     ]
    },
    {
     "cell_type": "markdown",
     "metadata": {},
     "source": [
      "1. [Principles of signal formation](signal-formation.ipynb): How is the signal generated?\n",
      "1. [dMRI signals](dMRI-signals.ipynb): The measurement in different directions\n",
      "1. [Modeling diffusion I](DTI.ipynb): The diffusion tensor model (DTM)\n",
      "1. [Modeling diffusion II](SFM.ipynb): Sparse fascicle models (SFM)\n",
      "1. [Tractography I](det_track.ipynb): Deterministic streamline tracing\n",
      "1. [Tractography II](prob_track.ipynb): Probabilistic tracking."
     ]
    },
    {
     "cell_type": "code",
     "collapsed": false,
     "input": [],
     "language": "python",
     "metadata": {},
     "outputs": []
    }
   ],
   "metadata": {}
  }
 ]
}